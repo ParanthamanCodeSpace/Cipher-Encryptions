{
  "nbformat": 4,
  "nbformat_minor": 0,
  "metadata": {
    "colab": {
      "provenance": []
    },
    "kernelspec": {
      "name": "python3",
      "display_name": "Python 3"
    },
    "language_info": {
      "name": "python"
    }
  },
  "cells": [
    {
      "cell_type": "code",
      "execution_count": null,
      "metadata": {
        "id": "8YS7fYXaGXgE",
        "colab": {
          "base_uri": "https://localhost:8080/"
        },
        "outputId": "03be337b-0051-4b5c-ef67-17aba744dd31"
      },
      "outputs": [
        {
          "output_type": "stream",
          "name": "stdout",
          "text": [
            "Enter the message to encrypt: HELLO\n",
            "Enter the key: APPLE\n",
            "Encrypted message: ht ws\n"
          ]
        }
      ],
      "source": [
        "alphabet = \"abcdefghijklmnopqrstuvwxyz \"\n",
        "\n",
        "letter_to_index = dict(zip(alphabet, range(len(alphabet))))\n",
        "index_to_letter = dict(zip(range(len(alphabet)), alphabet))\n",
        "\n",
        "def encrypt(message, key):\n",
        "    encrypted = \"\"\n",
        "    split_message = [\n",
        "        message[i : i + len(key)] for i in range(0, len(message), len(key))\n",
        "    ]\n",
        "\n",
        "    for each_split in split_message:\n",
        "        i = 0\n",
        "        for letter in each_split:\n",
        "            number = (letter_to_index[letter] + letter_to_index[key[i]]) % len(alphabet)\n",
        "            encrypted += index_to_letter[number]\n",
        "            i += 1\n",
        "\n",
        "    return encrypted\n",
        "\n",
        "def main():\n",
        "    message = input(\"Enter the message to encrypt: \").lower()\n",
        "    key = input(\"Enter the key: \").lower()\n",
        "    encrypted_message = encrypt(message, key)\n",
        "    print(\"Encrypted message: \" + encrypted_message)\n",
        "\n",
        "if __name__ == \"__main__\":\n",
        "    main()\n"
      ]
    },
    {
      "cell_type": "code",
      "source": [
        "\n"
      ],
      "metadata": {
        "id": "6T-iOOAEaH3c"
      },
      "execution_count": null,
      "outputs": []
    }
  ]
}