{
  "nbformat": 4,
  "nbformat_minor": 0,
  "metadata": {
    "colab": {
      "provenance": []
    },
    "kernelspec": {
      "name": "python3",
      "display_name": "Python 3"
    },
    "language_info": {
      "name": "python"
    }
  },
  "cells": [
    {
      "cell_type": "code",
      "execution_count": 4,
      "metadata": {
        "colab": {
          "base_uri": "https://localhost:8080/"
        },
        "id": "SG93inSFM3KB",
        "outputId": "6d25d77f-ab89-426e-cfed-6b69272cfa66"
      },
      "outputs": [
        {
          "output_type": "stream",
          "name": "stdout",
          "text": [
            "Original message: this is an example python program for vignere cipher method\n",
            "Encrypted message: twxcdigolr tllqp tktyhwzr dfzkrpakjofofmgbtbi rx lefoxitwco\n",
            "Decrypted message: this is an example python program for vignere cipher method\n"
          ]
        }
      ],
      "source": [
        "alphabet = \"abcdefghijklmnopqrstuvwxyz \"\n",
        "\n",
        "letter_to_index = dict(zip(alphabet, range(len(alphabet))))\n",
        "index_to_letter = dict(zip(range(len(alphabet)), alphabet))\n",
        "\n",
        "\n",
        "def encrypt(message, key):\n",
        "    encrypted = \"\"\n",
        "    split_message = [\n",
        "        message[i : i + len(key)] for i in range(0, len(message), len(key))\n",
        "    ]\n",
        "\n",
        "    for each_split in split_message:\n",
        "        i = 0\n",
        "        for letter in each_split:\n",
        "            number = (letter_to_index[letter] + letter_to_index[key[i]]) % len(alphabet)\n",
        "            encrypted += index_to_letter[number]\n",
        "            i += 1\n",
        "\n",
        "    return encrypted\n",
        "\n",
        "\n",
        "def decrypt(encrypted, key):\n",
        "    decrypted = \"\"\n",
        "    split_encrypted = [\n",
        "        encrypted[i : i + len(key)] for i in range(0, len(encrypted), len(key))\n",
        "    ]\n",
        "\n",
        "    for each_split in split_encrypted:\n",
        "        i = 0\n",
        "        for letter in each_split:\n",
        "            number = (letter_to_index[letter] - letter_to_index[key[i]]) % len(alphabet)\n",
        "            decrypted += index_to_letter[number]\n",
        "            i += 1\n",
        "\n",
        "    return decrypted\n",
        "\n",
        "\n",
        "def main():\n",
        "    message = \"this is an example python program for vignere cipher method\"\n",
        "    key = \"apple\"\n",
        "    encrypted_message = encrypt(message, key)\n",
        "    decrypted_message = decrypt(encrypted_message, key)\n",
        "\n",
        "    print(\"Original message: \" + message)\n",
        "    print(\"Encrypted message: \" + encrypted_message)\n",
        "    print(\"Decrypted message: \" + decrypted_message)\n",
        "\n",
        "\n",
        "main()"
      ]
    },
    {
      "cell_type": "code",
      "source": [],
      "metadata": {
        "id": "Hzka7S7hXjxX"
      },
      "execution_count": null,
      "outputs": []
    }
  ]
}